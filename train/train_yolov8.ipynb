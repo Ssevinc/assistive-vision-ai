{
  "nbformat": 4,
  "nbformat_minor": 0,
  "metadata": {
    "colab": {
      "provenance": [],
      "gpuType": "T4",
      "authorship_tag": "ABX9TyNAdtBI3gUVajEdA9/GCcks",
      "include_colab_link": true
    },
    "kernelspec": {
      "name": "python3",
      "display_name": "Python 3"
    },
    "language_info": {
      "name": "python"
    },
    "accelerator": "GPU"
  },
  "cells": [
    {
      "cell_type": "markdown",
      "metadata": {
        "id": "view-in-github",
        "colab_type": "text"
      },
      "source": [
        "<a href=\"https://colab.research.google.com/github/Ssevinc/assistive-vision-ai/blob/main/train/train_yolov8.ipynb\" target=\"_parent\"><img src=\"https://colab.research.google.com/assets/colab-badge.svg\" alt=\"Open In Colab\"/></a>"
      ]
    },
    {
      "cell_type": "markdown",
      "source": [
        "# YOLOv8 Training on Custom Assistive Vision Dataset\n",
        "\n",
        "This notebook trains a YOLOv8 object detection model on a custom dataset of street signs, traffic lights, crosswalks, and other safety-related objects to assist visually impaired individuals. The dataset was created using [Roboflow](https://roboflow.com) and exported in YOLOv8 format.\n"
      ],
      "metadata": {
        "id": "xDI8umZ_zqZA"
      }
    },
    {
      "cell_type": "markdown",
      "source": [
        "## 1. Install Dependencies\n",
        "We install:\n",
        "- `ultralytics` → YOLOv8 training framework\n",
        "- `roboflow` → to download the annotated dataset directly from Roboflow\n"
      ],
      "metadata": {
        "id": "sq9LWdC0zyUh"
      }
    },
    {
      "cell_type": "code",
      "source": [
        "!pip install roboflow ultralytics"
      ],
      "metadata": {
        "id": "99eAyb7auHHP"
      },
      "execution_count": null,
      "outputs": []
    },
    {
      "cell_type": "markdown",
      "source": [
        "## 2. Download Dataset\n",
        "We use Roboflow's API to download the dataset in YOLOv8 format.\n",
        "\n",
        "The dataset contains the following classes:\n",
        "1. bus_stop\n",
        "2. crosswalk_sign\n",
        "3. downstair_sign\n",
        "4. no_entry\n",
        "5. restroom\n",
        "6. slippery_sign\n",
        "7. stairs\n",
        "8. stop\n",
        "9. upstair_sign\n"
      ],
      "metadata": {
        "id": "EO4DnY3T1mix"
      }
    },
    {
      "cell_type": "code",
      "execution_count": 3,
      "metadata": {
        "colab": {
          "base_uri": "https://localhost:8080/"
        },
        "id": "HO5NTI3iv32v",
        "outputId": "03615a07-cba3-4fc6-94b8-97421933ad89"
      },
      "outputs": [
        {
          "output_type": "stream",
          "name": "stdout",
          "text": [
            "loading Roboflow workspace...\n",
            "loading Roboflow project...\n"
          ]
        },
        {
          "output_type": "stream",
          "name": "stderr",
          "text": [
            "Downloading Dataset Version Zip in dataset-1 to yolov8:: 100%|██████████| 61308/61308 [00:04<00:00, 12608.42it/s]"
          ]
        },
        {
          "output_type": "stream",
          "name": "stdout",
          "text": [
            "\n"
          ]
        },
        {
          "output_type": "stream",
          "name": "stderr",
          "text": [
            "\n",
            "Extracting Dataset Version Zip to dataset-1 in yolov8:: 100%|██████████| 2698/2698 [00:00<00:00, 5589.47it/s]\n"
          ]
        },
        {
          "output_type": "stream",
          "name": "stdout",
          "text": [
            "Creating new Ultralytics Settings v0.0.6 file ✅ \n",
            "View Ultralytics Settings with 'yolo settings' or at '/root/.config/Ultralytics/settings.json'\n",
            "Update Settings with 'yolo settings key=value', i.e. 'yolo settings runs_dir=path/to/dir'. For help see https://docs.ultralytics.com/quickstart/#ultralytics-settings.\n"
          ]
        }
      ],
      "source": [
        "from roboflow import Roboflow\n",
        "\n",
        "# Enter your Roboflow API key here\n",
        "rf = Roboflow(api_key=input(\"Enter your Roboflow API key: \"))\n",
        "\n",
        "project = rf.workspace(\"seyyide\").project(\"dataset-z6sm4\")\n",
        "dataset = project.version(1).download(\"yolov8\")"
      ]
    },
    {
      "cell_type": "markdown",
      "source": [
        "## 3. Verify GPU Availability\n",
        "YOLOv8 training on a CPU is slow. We check if Colab is using an NVIDIA GPU (Tesla T4 in this case) to ensure faster training.\n",
        "(Make sure to change the runtime type to T4 GPU)"
      ],
      "metadata": {
        "id": "66h3so0616MM"
      }
    },
    {
      "cell_type": "code",
      "source": [
        "!nvidia-smi"
      ],
      "metadata": {
        "colab": {
          "base_uri": "https://localhost:8080/"
        },
        "id": "ibgGnn-kzZmR",
        "outputId": "ada53e27-f8d5-4e09-fc7c-60aa4abc73d5"
      },
      "execution_count": 4,
      "outputs": [
        {
          "output_type": "stream",
          "name": "stdout",
          "text": [
            "Wed Aug 13 13:59:53 2025       \n",
            "+-----------------------------------------------------------------------------------------+\n",
            "| NVIDIA-SMI 550.54.15              Driver Version: 550.54.15      CUDA Version: 12.4     |\n",
            "|-----------------------------------------+------------------------+----------------------+\n",
            "| GPU  Name                 Persistence-M | Bus-Id          Disp.A | Volatile Uncorr. ECC |\n",
            "| Fan  Temp   Perf          Pwr:Usage/Cap |           Memory-Usage | GPU-Util  Compute M. |\n",
            "|                                         |                        |               MIG M. |\n",
            "|=========================================+========================+======================|\n",
            "|   0  Tesla T4                       Off |   00000000:00:04.0 Off |                    0 |\n",
            "| N/A   45C    P8              9W /   70W |       0MiB /  15360MiB |      0%      Default |\n",
            "|                                         |                        |                  N/A |\n",
            "+-----------------------------------------+------------------------+----------------------+\n",
            "                                                                                         \n",
            "+-----------------------------------------------------------------------------------------+\n",
            "| Processes:                                                                              |\n",
            "|  GPU   GI   CI        PID   Type   Process name                              GPU Memory |\n",
            "|        ID   ID                                                               Usage      |\n",
            "|=========================================================================================|\n",
            "|  No running processes found                                                             |\n",
            "+-----------------------------------------------------------------------------------------+\n"
          ]
        }
      ]
    },
    {
      "cell_type": "markdown",
      "source": [
        "## 4. Train YOLOv8 Model\n",
        "We use transfer learning from `yolov8n.pt` (nano model) to train on our dataset for 70 epochs.\n",
        "- `imgsz=640` → resize images for speed & accuracy balance\n",
        "- `epochs=70` → chosen to avoid overfitting (tested and observed in Roboflow experiments)\n",
        "- `data.yaml` → dataset configuration file from Roboflow\n"
      ],
      "metadata": {
        "id": "9K1XNDaI2K3z"
      }
    },
    {
      "cell_type": "code",
      "source": [
        "!yolo detect train model=yolov8n.pt data=/content/dataset-1/data.yaml epochs=70 imgsz=640"
      ],
      "metadata": {
        "id": "aZ5pXEej0sQz"
      },
      "execution_count": null,
      "outputs": []
    },
    {
      "cell_type": "markdown",
      "source": [
        "## Model Performance\n",
        "\n",
        "The YOLOv8 Nano (`yolov8n.pt`) model was trained on our custom assistive vision dataset for 70 epochs with an image size of 640×640. The best model checkpoint (`best.pt`) achieved the following performance on the validation set:\n",
        "\n",
        "| Class           | Precision (P) | Recall (R) | mAP50 | mAP50-95 |\n",
        "|-----------------|--------------:|-----------:|------:|---------:|\n",
        "| **bus_stop**        | 0.980 | 1.000 | 0.995 | 0.977 |\n",
        "| **crosswalk_sign**  | 0.985 | 0.962 | 0.987 | 0.949 |\n",
        "| **downstair_sign**  | 0.833 | 0.681 | 0.796 | 0.335 |\n",
        "| **no_entry**        | 0.985 | 1.000 | 0.995 | 0.990 |\n",
        "| **restroom**        | 0.984 | 1.000 | 0.995 | 0.965 |\n",
        "| **slippery_sign**   | 0.940 | 0.957 | 0.932 | 0.927 |\n",
        "| **stairs**          | 0.988 | 1.000 | 0.995 | 0.975 |\n",
        "| **stop**            | 0.971 | 1.000 | 0.995 | 0.974 |\n",
        "| **upstair_sign**    | 0.656 | 0.481 | 0.529 | 0.202 |\n",
        "\n",
        "**Overall Performance:**\n",
        "- **mAP50:** 0.913  \n",
        "- **mAP50-95:** 0.810  \n",
        "\n",
        "### 💡 Insights\n",
        "- Most classes achieved **very high precision and recall**, with near-perfect detection on `bus_stop`, `stairs`, `stop`, and `restroom`.\n",
        "- `downstair_sign` and `upstair_sign` have significantly lower recall and mAP, indicating the model sometimes misses these signs or has difficulty with precise localization.\n",
        "- To improve performance on weaker classes:\n",
        "  - Collect more training images for those categories.\n",
        "  - Add targeted data augmentation (rotations, perspective changes).\n",
        "  - Consider fine-tuning with class-weighted training.\n",
        "\n",
        "---\n",
        "\n",
        "**Trained Weights:** [`best.pt`](models/best.pt)  \n"
      ],
      "metadata": {
        "id": "QLKCIxNq2lQf"
      }
    },
    {
      "cell_type": "markdown",
      "source": [
        "This cell is to download the trained weights from Colab so they can be moved into the models/ folder in the GitHub repo."
      ],
      "metadata": {
        "id": "BxVP9YIG5OOd"
      }
    },
    {
      "cell_type": "code",
      "source": [
        "# @title Download the model\n",
        "from google.colab import files\n",
        "\n",
        "files.download('/content/runs/detect/train/weights/best.pt')\n",
        "files.download('/content/runs/detect/train/weights/last.pt')"
      ],
      "metadata": {
        "colab": {
          "base_uri": "https://localhost:8080/",
          "height": 17
        },
        "id": "KMFpIO644c2D",
        "outputId": "3719eecd-254c-4aa4-a49a-0ff343ebc230"
      },
      "execution_count": 6,
      "outputs": [
        {
          "output_type": "display_data",
          "data": {
            "text/plain": [
              "<IPython.core.display.Javascript object>"
            ],
            "application/javascript": [
              "\n",
              "    async function download(id, filename, size) {\n",
              "      if (!google.colab.kernel.accessAllowed) {\n",
              "        return;\n",
              "      }\n",
              "      const div = document.createElement('div');\n",
              "      const label = document.createElement('label');\n",
              "      label.textContent = `Downloading \"${filename}\": `;\n",
              "      div.appendChild(label);\n",
              "      const progress = document.createElement('progress');\n",
              "      progress.max = size;\n",
              "      div.appendChild(progress);\n",
              "      document.body.appendChild(div);\n",
              "\n",
              "      const buffers = [];\n",
              "      let downloaded = 0;\n",
              "\n",
              "      const channel = await google.colab.kernel.comms.open(id);\n",
              "      // Send a message to notify the kernel that we're ready.\n",
              "      channel.send({})\n",
              "\n",
              "      for await (const message of channel.messages) {\n",
              "        // Send a message to notify the kernel that we're ready.\n",
              "        channel.send({})\n",
              "        if (message.buffers) {\n",
              "          for (const buffer of message.buffers) {\n",
              "            buffers.push(buffer);\n",
              "            downloaded += buffer.byteLength;\n",
              "            progress.value = downloaded;\n",
              "          }\n",
              "        }\n",
              "      }\n",
              "      const blob = new Blob(buffers, {type: 'application/binary'});\n",
              "      const a = document.createElement('a');\n",
              "      a.href = window.URL.createObjectURL(blob);\n",
              "      a.download = filename;\n",
              "      div.appendChild(a);\n",
              "      a.click();\n",
              "      div.remove();\n",
              "    }\n",
              "  "
            ]
          },
          "metadata": {}
        },
        {
          "output_type": "display_data",
          "data": {
            "text/plain": [
              "<IPython.core.display.Javascript object>"
            ],
            "application/javascript": [
              "download(\"download_d88d73b8-8e4a-4c4b-83c7-74de557da711\", \"best.pt\", 6254115)"
            ]
          },
          "metadata": {}
        },
        {
          "output_type": "display_data",
          "data": {
            "text/plain": [
              "<IPython.core.display.Javascript object>"
            ],
            "application/javascript": [
              "\n",
              "    async function download(id, filename, size) {\n",
              "      if (!google.colab.kernel.accessAllowed) {\n",
              "        return;\n",
              "      }\n",
              "      const div = document.createElement('div');\n",
              "      const label = document.createElement('label');\n",
              "      label.textContent = `Downloading \"${filename}\": `;\n",
              "      div.appendChild(label);\n",
              "      const progress = document.createElement('progress');\n",
              "      progress.max = size;\n",
              "      div.appendChild(progress);\n",
              "      document.body.appendChild(div);\n",
              "\n",
              "      const buffers = [];\n",
              "      let downloaded = 0;\n",
              "\n",
              "      const channel = await google.colab.kernel.comms.open(id);\n",
              "      // Send a message to notify the kernel that we're ready.\n",
              "      channel.send({})\n",
              "\n",
              "      for await (const message of channel.messages) {\n",
              "        // Send a message to notify the kernel that we're ready.\n",
              "        channel.send({})\n",
              "        if (message.buffers) {\n",
              "          for (const buffer of message.buffers) {\n",
              "            buffers.push(buffer);\n",
              "            downloaded += buffer.byteLength;\n",
              "            progress.value = downloaded;\n",
              "          }\n",
              "        }\n",
              "      }\n",
              "      const blob = new Blob(buffers, {type: 'application/binary'});\n",
              "      const a = document.createElement('a');\n",
              "      a.href = window.URL.createObjectURL(blob);\n",
              "      a.download = filename;\n",
              "      div.appendChild(a);\n",
              "      a.click();\n",
              "      div.remove();\n",
              "    }\n",
              "  "
            ]
          },
          "metadata": {}
        },
        {
          "output_type": "display_data",
          "data": {
            "text/plain": [
              "<IPython.core.display.Javascript object>"
            ],
            "application/javascript": [
              "download(\"download_86572fa0-6783-414f-8ff2-2916e5c22768\", \"last.pt\", 6254115)"
            ]
          },
          "metadata": {}
        }
      ]
    }
  ]
}